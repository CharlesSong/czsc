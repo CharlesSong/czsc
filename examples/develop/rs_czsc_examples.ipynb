{
 "cells": [
  {
   "cell_type": "markdown",
   "id": "49fb5fe1",
   "metadata": {},
   "source": [
    "## 测试 rust 版本 czsc 库的使用\n",
    "\n",
    "----"
   ]
  },
  {
   "cell_type": "code",
   "execution_count": null,
   "id": "4bbe13c1",
   "metadata": {},
   "outputs": [],
   "source": []
  },
  {
   "cell_type": "code",
   "execution_count": 7,
   "id": "49d480a0",
   "metadata": {},
   "outputs": [
    {
     "name": "stdout",
     "output_type": "stream",
     "text": [
      "Signal('30分钟_D1_表里关系V230101_向上_任意_任意_0')\n",
      "Signal('60分钟_D1_表里关系V230101_向上_任意_任意_0')\n",
      "Signal('30分钟_D1_表里关系V230101_向上_任意_任意_0')\n"
     ]
    }
   ],
   "source": [
    "from rs_czsc import Event, Signal, CZSC\n",
    "\n",
    "s1 = Signal(key=\"30分钟_D1_表里关系V230101\", value=\"向上_任意_任意_0\")\n",
    "print(s1)\n",
    "\n",
    "s2 = Signal(k1=\"60分钟\", k2=\"D1\", k3=\"表里关系V230101\", v1=\"向上\", v2=\"任意\", v3=\"任意\", score=0)\n",
    "print(s2)\n",
    "\n",
    "s3 = Signal(\"30分钟_D1_表里关系V230101_向上_任意_任意_0\")\n",
    "print(s3)"
   ]
  },
  {
   "cell_type": "code",
   "execution_count": 11,
   "id": "c16058b7",
   "metadata": {},
   "outputs": [
    {
     "data": {
      "text/plain": [
       "'30分钟_D1_表里关系V230101_向上_任意_任意_0'"
      ]
     },
     "execution_count": 11,
     "metadata": {},
     "output_type": "execute_result"
    }
   ],
   "source": [
    "s1.to_string()"
   ]
  },
  {
   "cell_type": "markdown",
   "id": "9260a77e",
   "metadata": {},
   "source": [
    "### 测试 Event 对象\n",
    "---"
   ]
  },
  {
   "cell_type": "code",
   "execution_count": 9,
   "id": "51911a88",
   "metadata": {},
   "outputs": [
    {
     "ename": "AttributeError",
     "evalue": "'builtins.Event' object has no attribute 'dump'",
     "output_type": "error",
     "traceback": [
      "\u001b[31m---------------------------------------------------------------------------\u001b[39m",
      "\u001b[31mAttributeError\u001b[39m                            Traceback (most recent call last)",
      "\u001b[36mCell\u001b[39m\u001b[36m \u001b[39m\u001b[32mIn[9]\u001b[39m\u001b[32m, line 10\u001b[39m\n\u001b[32m      2\u001b[39m \u001b[38;5;28;01mfrom\u001b[39;00m\u001b[38;5;250m \u001b[39m\u001b[34;01mrs_czsc\u001b[39;00m\u001b[38;5;250m \u001b[39m\u001b[38;5;28;01mimport\u001b[39;00m Event, Signal, Operate\n\u001b[32m      5\u001b[39m event = Event(name=\u001b[33m'\u001b[39m\u001b[33m平多\u001b[39m\u001b[33m'\u001b[39m, operate=Operate.LE, \n\u001b[32m      6\u001b[39m               signals_all=[\n\u001b[32m      7\u001b[39m                         Signal(\u001b[33m\"\u001b[39m\u001b[33m日线_D0停顿分型_BE辅助V230106_看空_强_任意_0\u001b[39m\u001b[33m\"\u001b[39m),\n\u001b[32m      8\u001b[39m                 ])\n\u001b[32m---> \u001b[39m\u001b[32m10\u001b[39m \u001b[38;5;28mprint\u001b[39m(\u001b[43mevent\u001b[49m\u001b[43m.\u001b[49m\u001b[43mdump\u001b[49m())\n",
      "\u001b[31mAttributeError\u001b[39m: 'builtins.Event' object has no attribute 'dump'"
     ]
    }
   ],
   "source": [
    "# python 版本：https://github.com/waditu/czsc/blob/0.9.68/czsc/objects.py#L630\n",
    "from rs_czsc import Event, Signal, Operate\n",
    "\n",
    "\n",
    "event = Event(name='平多', operate=Operate.LE, \n",
    "              signals_all=[\n",
    "                        Signal(\"日线_D0停顿分型_BE辅助V230106_看空_强_任意_0\"),\n",
    "                ])\n",
    "\n",
    "print(event.dump())"
   ]
  },
  {
   "cell_type": "code",
   "execution_count": 1,
   "id": "f24f56f6",
   "metadata": {},
   "outputs": [],
   "source": [
    "from rs_czsc import Operate"
   ]
  },
  {
   "cell_type": "code",
   "execution_count": null,
   "id": "f52fa016",
   "metadata": {},
   "outputs": [],
   "source": [
    "op = Operate.LE\n",
    "assert op.value == \"平多\""
   ]
  },
  {
   "cell_type": "code",
   "execution_count": 12,
   "id": "53224aae",
   "metadata": {},
   "outputs": [
    {
     "ename": "AttributeError",
     "evalue": "'builtins.Operate' object has no attribute 'value'",
     "output_type": "error",
     "traceback": [
      "\u001b[31m---------------------------------------------------------------------------\u001b[39m",
      "\u001b[31mAttributeError\u001b[39m                            Traceback (most recent call last)",
      "\u001b[36mCell\u001b[39m\u001b[36m \u001b[39m\u001b[32mIn[12]\u001b[39m\u001b[32m, line 1\u001b[39m\n\u001b[32m----> \u001b[39m\u001b[32m1\u001b[39m \u001b[43mop\u001b[49m\u001b[43m.\u001b[49m\u001b[43mvalue\u001b[49m\n",
      "\u001b[31mAttributeError\u001b[39m: 'builtins.Operate' object has no attribute 'value'"
     ]
    }
   ],
   "source": [
    "op.value"
   ]
  },
  {
   "cell_type": "code",
   "execution_count": null,
   "id": "fad86abf",
   "metadata": {},
   "outputs": [],
   "source": []
  }
 ],
 "metadata": {
  "kernelspec": {
   "display_name": "CZSC10",
   "language": "python",
   "name": "python3"
  },
  "language_info": {
   "codemirror_mode": {
    "name": "ipython",
    "version": 3
   },
   "file_extension": ".py",
   "mimetype": "text/x-python",
   "name": "python",
   "nbconvert_exporter": "python",
   "pygments_lexer": "ipython3",
   "version": "3.12.11"
  }
 },
 "nbformat": 4,
 "nbformat_minor": 5
}
