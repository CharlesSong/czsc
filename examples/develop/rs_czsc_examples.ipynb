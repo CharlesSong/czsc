{
 "cells": [
  {
   "cell_type": "markdown",
   "id": "49fb5fe1",
   "metadata": {},
   "source": [
    "## 测试 rust 版本 czsc 库的使用\n",
    "\n",
    "----"
   ]
  },
  {
   "cell_type": "code",
   "execution_count": null,
   "id": "4bbe13c1",
   "metadata": {},
   "outputs": [],
   "source": []
  },
  {
   "cell_type": "code",
   "execution_count": null,
   "id": "49d480a0",
   "metadata": {},
   "outputs": [
    {
     "name": "stdout",
     "output_type": "stream",
     "text": [
      "Signal('30分钟_D1_表里关系V230101_向上_任意_任意_0')\n"
     ]
    }
   ],
   "source": [
    "from rs_czsc import Event, Signal, CZSC\n",
    "\n",
    "s1 = Signal(key=\"30分钟_D1_表里关系V230101\", value=\"向上_任意_任意_0\")\n",
    "print(s1)\n",
    "\n",
    "# s2 = Signal(k1=\"60分钟\", k2=\"D1\", k3=\"表里关系V230101\", v1=\"向上\", v2=\"任意\", v3=\"任意\", v4=\"0\")\n",
    "# print(s2)\n",
    "\n",
    "# s3 = Signal(\"30分钟_D1_表里关系V230101_向上_任意_任意_0\")\n",
    "# print(s3)"
   ]
  },
  {
   "cell_type": "code",
   "execution_count": null,
   "id": "c16058b7",
   "metadata": {},
   "outputs": [],
   "source": []
  },
  {
   "cell_type": "markdown",
   "id": "9260a77e",
   "metadata": {},
   "source": [
    "### 测试 Event 对象\n",
    "---"
   ]
  },
  {
   "cell_type": "code",
   "execution_count": null,
   "id": "51911a88",
   "metadata": {},
   "outputs": [],
   "source": [
    "from rs_czsc import Event, Signal\n"
   ]
  },
  {
   "cell_type": "code",
   "execution_count": 14,
   "id": "f24f56f6",
   "metadata": {},
   "outputs": [],
   "source": [
    "from rs_czsc import Operate"
   ]
  },
  {
   "cell_type": "code",
   "execution_count": 19,
   "id": "f52fa016",
   "metadata": {},
   "outputs": [
    {
     "data": {
      "text/plain": [
       "<function Operate.lo()>"
      ]
     },
     "execution_count": 19,
     "metadata": {},
     "output_type": "execute_result"
    }
   ],
   "source": [
    "Operate.lo"
   ]
  },
  {
   "cell_type": "code",
   "execution_count": null,
   "id": "53224aae",
   "metadata": {},
   "outputs": [],
   "source": []
  }
 ],
 "metadata": {
  "kernelspec": {
   "display_name": "CZSC10",
   "language": "python",
   "name": "python3"
  },
  "language_info": {
   "codemirror_mode": {
    "name": "ipython",
    "version": 3
   },
   "file_extension": ".py",
   "mimetype": "text/x-python",
   "name": "python",
   "nbconvert_exporter": "python",
   "pygments_lexer": "ipython3",
   "version": "3.12.11"
  }
 },
 "nbformat": 4,
 "nbformat_minor": 5
}
