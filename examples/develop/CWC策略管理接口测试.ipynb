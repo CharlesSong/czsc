{
 "cells": [
  {
   "cell_type": "markdown",
   "id": "25052736",
   "metadata": {},
   "source": [
    "## 测试基于 clickhouse 的策略管理系统接口\n",
    "\n",
    "---\n",
    "\n"
   ]
  },
  {
   "cell_type": "code",
   "execution_count": null,
   "id": "8e6293be",
   "metadata": {},
   "outputs": [],
   "source": [
    "import sys\n",
    "sys.path.insert(0, \"A:/ZB/git_repo/waditu/czsc\")\n",
    "import dotenv\n",
    "dotenv.load_dotenv(dotenv_path=\"A:/ZB/git_repo/waditu/czsc/.env\", override=True)\n",
    "\n",
    "import os\n",
    "import czsc\n",
    "import pandas as pd\n",
    "from zoneinfo import ZoneInfo\n",
    "\n",
    "\n",
    "czsc.welcome()\n",
    "\n",
    "database = \"czsc_strategy_test\"\n",
    "tz = ZoneInfo(\"Asia/Shanghai\")\n",
    "\n",
    "## 初始化策略管理数据库\n",
    "\n",
    "czsc.cwc.initialize(database=database)"
   ]
  },
  {
   "cell_type": "markdown",
   "id": "e8ad7a0d",
   "metadata": {},
   "source": [
    "### 策略数据写入\n",
    "\n",
    "---\n",
    "\n",
    "1. 写入策略元数据\n",
    "2. 写入策略持仓权重\n",
    "3. 写入策略日收益\n"
   ]
  },
  {
   "cell_type": "code",
   "execution_count": null,
   "id": "dbf9ca29",
   "metadata": {},
   "outputs": [],
   "source": [
    "czsc.cwc.set_meta(\n",
    "    strategy=\"测试策略1号\",\n",
    "    base_freq=\"日线\",\n",
    "    description=\"这是一个测试用的策略\",\n",
    "    author=\"xxx\",\n",
    "    outsample_sdt=\"20220101\",\n",
    "    weight_type=\"ts\",\n",
    "    status=\"实盘\",\n",
    "    memo=\"\",\n",
    "    overwrite=False,\n",
    "    database=database,\n",
    ")\n",
    "\n",
    "mate = czsc.cwc.get_meta(\"测试策略1号\", database=database)\n",
    "print(mate)"
   ]
  },
  {
   "cell_type": "code",
   "execution_count": null,
   "id": "7de01236",
   "metadata": {},
   "outputs": [],
   "source": [
    "dfw = czsc.mock.generate_klines_with_weights()\n",
    "\n",
    "czsc.cwc.publish_weights(df=dfw, strategy=\"测试策略1号\", database=database, verbose=True)"
   ]
  },
  {
   "cell_type": "code",
   "execution_count": null,
   "id": "4cf83a26",
   "metadata": {},
   "outputs": [],
   "source": [
    "wb = czsc.WeightBacktest(dfw, digits=2, fee_rate=0.0)\n",
    "dfr = pd.melt(wb.daily_return.copy(), id_vars=[\"date\"], var_name=\"symbol\", value_name=\"returns\")\n",
    "dfr.rename(columns={\"date\": \"dt\"}, inplace=True)\n",
    "\n",
    "print(dfr.tail())\n",
    "\n",
    "czsc.cwc.publish_returns(df=dfr, strategy=\"测试策略1号\", database=database, verbose=True)"
   ]
  },
  {
   "cell_type": "markdown",
   "id": "f27495bd",
   "metadata": {},
   "source": [
    "### 读取策略数据\n",
    "---"
   ]
  },
  {
   "cell_type": "code",
   "execution_count": null,
   "id": "119d367b",
   "metadata": {},
   "outputs": [],
   "source": [
    "# 读取策略列表\n",
    "\n",
    "dfm = czsc.cwc.get_all_metas(database=database)\n",
    "dfm"
   ]
  },
  {
   "cell_type": "code",
   "execution_count": null,
   "id": "9332720c",
   "metadata": {},
   "outputs": [],
   "source": [
    "dfw = czsc.cwc.get_strategy_weights(strategy=\"测试策略1号\", database=database)\n",
    "dfw"
   ]
  },
  {
   "cell_type": "code",
   "execution_count": null,
   "id": "587ca930",
   "metadata": {},
   "outputs": [],
   "source": [
    "dfw = czsc.cwc.get_strategy_weights(strategy=\"测试策略1号\", database=database, sdt=\"20230101\")\n",
    "dfw"
   ]
  },
  {
   "cell_type": "code",
   "execution_count": null,
   "id": "86473550",
   "metadata": {},
   "outputs": [],
   "source": [
    "\n",
    "dfr = czsc.cwc.get_strategy_returns(strategy=\"测试策略1号\", database=database)\n",
    "dfr"
   ]
  },
  {
   "cell_type": "code",
   "execution_count": null,
   "id": "3b30ecee",
   "metadata": {},
   "outputs": [],
   "source": [
    "dfl  = czsc.cwc.get_latest_weights(database=database)\n",
    "dfl"
   ]
  },
  {
   "cell_type": "code",
   "execution_count": null,
   "id": "96da580f",
   "metadata": {},
   "outputs": [],
   "source": [
    "from zoneinfo import ZoneInfo, ZoneInfoNotFoundError\n",
    "\n",
    "\n",
    "DEFAULT_TZ = ZoneInfo(\"Asia/Shanghai\")"
   ]
  },
  {
   "cell_type": "code",
   "execution_count": null,
   "id": "e26ac42d",
   "metadata": {},
   "outputs": [],
   "source": [
    "DEFAULT_TZ"
   ]
  },
  {
   "cell_type": "code",
   "execution_count": null,
   "id": "5d44eaeb",
   "metadata": {},
   "outputs": [],
   "source": []
  }
 ],
 "metadata": {
  "kernelspec": {
   "display_name": "CZSC10",
   "language": "python",
   "name": "python3"
  },
  "language_info": {
   "codemirror_mode": {
    "name": "ipython",
    "version": 3
   },
   "file_extension": ".py",
   "mimetype": "text/x-python",
   "name": "python",
   "nbconvert_exporter": "python",
   "pygments_lexer": "ipython3",
   "version": "3.12.11"
  }
 },
 "nbformat": 4,
 "nbformat_minor": 5
}
